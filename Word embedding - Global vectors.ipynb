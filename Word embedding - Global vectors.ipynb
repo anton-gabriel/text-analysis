{
 "cells": [
  {
   "cell_type": "code",
   "execution_count": 50,
   "metadata": {
    "ExecuteTime": {
     "end_time": "2019-12-13T09:59:24.392007Z",
     "start_time": "2019-12-13T09:59:18.594651Z"
    }
   },
   "outputs": [
    {
     "name": "stderr",
     "output_type": "stream",
     "text": [
      "[nltk_data] Downloading package stopwords to\n",
      "[nltk_data]     C:\\Users\\anton\\AppData\\Roaming\\nltk_data...\n",
      "[nltk_data]   Package stopwords is already up-to-date!\n"
     ]
    },
    {
     "data": {
      "text/plain": [
       "True"
      ]
     },
     "execution_count": 50,
     "metadata": {},
     "output_type": "execute_result"
    }
   ],
   "source": [
    "import numpy as np\r\n",
    "import re\r\n",
    "import matplotlib.pyplot as plt\r\n",
    "from sklearn.decomposition import PCA\r\n",
    "from nltk.corpus import stopwords\r\n",
    "from typing import List\r\n",
    "import nltk\r\n",
    "nltk.download(\"stopwords\")"
   ]
  },
  {
   "cell_type": "markdown",
   "metadata": {},
   "source": [
    "## Read data"
   ]
  },
  {
   "cell_type": "code",
   "execution_count": 51,
   "metadata": {
    "ExecuteTime": {
     "end_time": "2019-12-13T10:02:31.072093Z",
     "start_time": "2019-12-13T10:02:31.067107Z"
    }
   },
   "outputs": [],
   "source": [
    "def read_file(file_name: str) -> list:\r\n",
    "    with open(file_name) as file:\r\n",
    "        words = [word.lower() for line in file for word in re.findall(r'[a-zA-Z]+', line)]\r\n",
    "        return [word for word in words if word not in stopwords.words('english')]"
   ]
  },
  {
   "cell_type": "code",
   "execution_count": 52,
   "metadata": {},
   "outputs": [],
   "source": [
    "data = read_file(\"data/text_book_of_biology_vertebrata.txt\")"
   ]
  },
  {
   "cell_type": "code",
   "execution_count": 53,
   "metadata": {
    "ExecuteTime": {
     "end_time": "2019-12-13T11:10:50.589036Z",
     "start_time": "2019-12-13T11:10:50.585045Z"
    }
   },
   "outputs": [
    {
     "name": "stdout",
     "output_type": "stream",
     "text": [
      "['rabbit', 'external', 'form', 'general', 'considerations', 'section', 'unnecessary', 'enter', 'upon', 'description', 'appearance', 'familiar', 'type', 'perhaps', 'superfluous', 'proceed', 'consider', 'anatomy', 'call', 'attention', 'one', 'two', 'points', 'external', 'externally', 'apparent', 'structure', 'readers', 'know', 'belongs', 'one', 'two', 'primary', 'animal', 'divisions', 'called', 'vertebrata', 'distinctive', 'feature', 'place', 'division', 'possession', 'spinal', 'column', 'backbone', 'really', 'series', 'small', 'ring', 'like', 'bones', 'vertebrae', 'figure', 'v', 'b', 'strung', 'together', 'main', 'nerve', 'axis', 'spinal', 'cord', 'figure', 'c', 'spinal', 'column', 'felt', 'along', 'neck', 'back', 'tail', 'tail', 'small', 'tilted', 'conspicuously', 'white', 'beneath', 'serves', 'recognition', 'mark', 'guide', 'young', 'feeding', 'alarm', 'given', 'bolt', 'made', 'burrows', 'primitive', 'older', 'simpler', 'fashioned', 'vertebrata', 'fishes', 'tail', 'much', 'large', 'far', 'important', 'compared']\n"
     ]
    }
   ],
   "source": [
    "print(data[:100])"
   ]
  },
  {
   "cell_type": "markdown",
   "metadata": {},
   "source": [
    "## Plot data"
   ]
  },
  {
   "cell_type": "code",
   "execution_count": 54,
   "metadata": {
    "ExecuteTime": {
     "end_time": "2019-12-13T11:10:53.038007Z",
     "start_time": "2019-12-13T11:10:53.034018Z"
    }
   },
   "outputs": [],
   "source": [
    "def plot(errors: np.ndarray) -> None:\n",
    "    fig = plt.figure()\n",
    "    plt.plot(errors)\n",
    "    plt.xlabel('iterations')\n",
    "    plt.ylabel('errors')\n",
    "    plt.show()"
   ]
  },
  {
   "cell_type": "markdown",
   "metadata": {},
   "source": [
    "## Matrix factorization"
   ]
  },
  {
   "cell_type": "code",
   "execution_count": 55,
   "metadata": {
    "ExecuteTime": {
     "end_time": "2019-12-13T11:10:53.931930Z",
     "start_time": "2019-12-13T11:10:53.920960Z"
    }
   },
   "outputs": [],
   "source": [
    "class MatrixFactorization(object):\r\n",
    "    def __init__(self, matrix: np.ndarray):\r\n",
    "        self.__matrix = matrix\r\n",
    "        \r\n",
    "    def train(self,\r\n",
    "              desired_dimensions: int,\r\n",
    "              alpha: float= 1e-2,\r\n",
    "              beta: float= 1e-2,\r\n",
    "              epsilon: float= 1e-5,\r\n",
    "              iterations: int= 1e3,\r\n",
    "              auto_adjust_initial_values: bool= True):\r\n",
    "        self.U = np.random.rand(self.__matrix.shape[0], desired_dimensions)\r\n",
    "        self.V = np.random.rand(self.__matrix.shape[1], desired_dimensions)\r\n",
    "        \r\n",
    "        if auto_adjust_initial_values:\r\n",
    "            mean = np.mean(self.__matrix)\r\n",
    "            if mean < 1.0:\r\n",
    "                self.U *= mean\r\n",
    "                self.V *= mean\r\n",
    "        \r\n",
    "        return self.__gradient_descent(alpha, beta, epsilon, iterations)\r\n",
    "       \r\n",
    "    def get_predicted_matrix(self):\r\n",
    "        return self.U@self.V.T\r\n",
    "    \r\n",
    "    def get_vector(self, line: int, column: int) -> np.ndarray:\r\n",
    "        return self.U[line] * self.V[column]\r\n",
    "\r\n",
    "    def __gradient_descent(self, alpha, beta, epsilon, iterations) -> np.ndarray:\r\n",
    "        current_step = 0\r\n",
    "        errors = []\r\n",
    "        while True:\r\n",
    "            error = self.__matrix - self.get_predicted_matrix()\r\n",
    "            old_U = self.U.copy()\r\n",
    "            \r\n",
    "            \r\n",
    "            self.U += alpha * (error @ self.V - beta * self.U)\r\n",
    "            self.V += alpha * (error.T @ old_U - beta * self.V)\r\n",
    "            errors.append(self.__compute_mean_squared_error())\r\n",
    "            current_step += 1\r\n",
    "            \r\n",
    "            if np.linalg.norm(self.U - old_U) < epsilon or current_step > iterations:\r\n",
    "                return {\r\n",
    "                    'errors' : errors,\r\n",
    "                    'iterations' : current_step\r\n",
    "                }\r\n",
    "    \r\n",
    "    def __compute_mean_squared_error(self) -> np.ndarray:\r\n",
    "        return np.mean((self.__matrix - self.get_predicted_matrix()) ** 2)"
   ]
  },
  {
   "cell_type": "markdown",
   "metadata": {},
   "source": [
    "## Test matrix factorization"
   ]
  },
  {
   "cell_type": "code",
   "execution_count": 56,
   "metadata": {
    "ExecuteTime": {
     "end_time": "2019-12-13T11:10:55.006277Z",
     "start_time": "2019-12-13T11:10:54.961397Z"
    }
   },
   "outputs": [],
   "source": [
    "matrix = np.arange(25).reshape(5, 5)\n",
    "\n",
    "matrix_fact = MatrixFactorization(matrix)\n",
    "\n",
    "factorization_result = matrix_fact.train(desired_dimensions= 10)"
   ]
  },
  {
   "cell_type": "code",
   "execution_count": 57,
   "metadata": {
    "ExecuteTime": {
     "end_time": "2019-12-13T11:10:55.546850Z",
     "start_time": "2019-12-13T11:10:55.433127Z"
    }
   },
   "outputs": [
    {
     "data": {
      "image/png": "[encoded data removed]",
      "text/plain": [
       "<Figure size 432x288 with 1 Axes>"
      ]
     },
     "metadata": {
      "needs_background": "light"
     },
     "output_type": "display_data"
    }
   ],
   "source": [
    "plot(factorization_result['errors'])"
   ]
  },
  {
   "cell_type": "code",
   "execution_count": 58,
   "metadata": {
    "ExecuteTime": {
     "end_time": "2019-12-13T11:10:56.069010Z",
     "start_time": "2019-12-13T11:10:56.065020Z"
    }
   },
   "outputs": [
    {
     "name": "stdout",
     "output_type": "stream",
     "text": [
      "Predicted: \n",
      " [[ 0.  1.  2.  3.  4.]\n",
      " [ 5.  6.  7.  8.  9.]\n",
      " [10. 11. 12. 13. 14.]\n",
      " [15. 16. 17. 18. 19.]\n",
      " [20. 21. 22. 23. 24.]]\n",
      "Initial: \n",
      " [[ 0  1  2  3  4]\n",
      " [ 5  6  7  8  9]\n",
      " [10 11 12 13 14]\n",
      " [15 16 17 18 19]\n",
      " [20 21 22 23 24]]\n"
     ]
    }
   ],
   "source": [
    "print(f'Predicted: \\n {np.round(matrix_fact.get_predicted_matrix())}')\n",
    "print(f'Initial: \\n {np.round(matrix)}')"
   ]
  },
  {
   "cell_type": "markdown",
   "metadata": {},
   "source": [
    "## Word embedding"
   ]
  },
  {
   "cell_type": "code",
   "execution_count": 59,
   "metadata": {
    "ExecuteTime": {
     "end_time": "2019-12-13T11:10:57.719390Z",
     "start_time": "2019-12-13T11:10:57.705231Z"
    }
   },
   "outputs": [],
   "source": [
    "class WordEmbedding(object):\r\n",
    "    \r\n",
    "    def __init__(self, data: List[str]):\r\n",
    "        self.__data = data\r\n",
    "        \r\n",
    "    def train(self,\r\n",
    "              window_size,\r\n",
    "              desired_dimensions: int,\r\n",
    "              alpha: float= 1e-2 ,\r\n",
    "              beta: float= 1e-2,\r\n",
    "              epsilon: float= 1e-5,\r\n",
    "              iterations: int= 1e3,\r\n",
    "              auto_adjust_initial_values: bool= True):\r\n",
    "        \r\n",
    "        self.co_occurrence_matrix = self.__build_co_occurrence_matrix(window_size)\r\n",
    "        self.probability_matrix = self.__build_probability_matrix()\r\n",
    "        self.__matrix_factorization = MatrixFactorization(matrix= self.probability_matrix)\r\n",
    "        training_result = self.__matrix_factorization.train(desired_dimensions, alpha, beta, epsilon, iterations)\r\n",
    "        self.__embeddings = self.__matrix_factorization.U * self.__matrix_factorization.V\r\n",
    "        self.__words_embeddings = dict(zip(self.__words, self.__embeddings))\r\n",
    "        return training_result\r\n",
    "        \r\n",
    "    def get_predicted_matrix(self) -> np.ndarray:\r\n",
    "        return self.__matrix_factorization.get_predicted_matrix()\r\n",
    "    \r\n",
    "    def get_embeddings(self) -> np.ndarray:\r\n",
    "        return self.__embeddings\r\n",
    "    \r\n",
    "    def get_words_embeddings(self) -> np.ndarray:\r\n",
    "        return self.__words_embeddings\r\n",
    "    \r\n",
    "    def get_words(self) -> np.ndarray:\r\n",
    "        return self.__words\r\n",
    "        \r\n",
    "    def __build_co_occurrence_matrix(self, window_size = (10, 10)) -> np.ndarray:\r\n",
    "        self.__words = list(set(self.__data))\r\n",
    "        number_of_words = len(self.__words)\r\n",
    "        self.__vocab = {word:index for index, word in enumerate(self.__words)}\r\n",
    "        number_data = np.array([self.__vocab[word] for word in self.__data])\r\n",
    "        \r\n",
    "        indices = np.arange(len(number_data))[window_size[0]:-window_size[1]].reshape(-1, 1)\r\n",
    "        window = np.concatenate((np.arange(start= -window_size[0], stop= 0, step= 1),\r\n",
    "                            np.arange(start= 1, stop= window_size[1] + 1, step= 1)))\r\n",
    "        co_occurrence_matrix = np.ones(shape= (number_of_words, number_of_words), dtype= np.float64)\r\n",
    "        co_occurrence_matrix[number_data[indices], number_data[indices + window]] += 1/np.abs(window)\r\n",
    "        \r\n",
    "        return co_occurrence_matrix\r\n",
    "        \r\n",
    "    def compute_similarity(self, word: str, words_limit: int) -> np.ndarray:\r\n",
    "        res = embeddings.get_embeddings()\r\n",
    "        if word in self.__vocab:\r\n",
    "            word_index = self.__vocab[word]\r\n",
    "            cosine_similarity = (res @ res[word_index]) / (np.linalg.norm(res, axis = 1) * np.linalg.norm(res[word_index]))\r\n",
    "            indices = np.argsort(cosine_similarity)[::-1]\r\n",
    "            return np.c_[np.array(self.__words), cosine_similarity][indices[:words_limit]]\r\n",
    "        return None\r\n",
    "        \r\n",
    "    def __build_probability_matrix(self) -> np.ndarray:\r\n",
    "        return self.co_occurrence_matrix / np.sum(self.co_occurrence_matrix, axis= 1, keepdims= True)"
   ]
  },
  {
   "cell_type": "code",
   "execution_count": 60,
   "metadata": {
    "ExecuteTime": {
     "end_time": "2019-12-13T11:11:07.452259Z",
     "start_time": "2019-12-13T11:11:07.449242Z"
    }
   },
   "outputs": [],
   "source": [
    "embeddings = WordEmbedding(data)"
   ]
  },
  {
   "cell_type": "code",
   "execution_count": 61,
   "metadata": {
    "ExecuteTime": {
     "end_time": "2019-12-13T11:12:41.042404Z",
     "start_time": "2019-12-13T11:11:08.049067Z"
    }
   },
   "outputs": [],
   "source": [
    "result = embeddings.train(window_size= (2, 2), desired_dimensions= 10, iterations= 10)"
   ]
  },
  {
   "cell_type": "code",
   "execution_count": 62,
   "metadata": {
    "ExecuteTime": {
     "end_time": "2019-12-13T11:12:49.904634Z",
     "start_time": "2019-12-13T11:12:49.726831Z"
    }
   },
   "outputs": [
    {
     "data": {
      "image/png": "[encoded data removed]",
      "text/plain": [
       "<Figure size 432x288 with 1 Axes>"
      ]
     },
     "metadata": {
      "needs_background": "light"
     },
     "output_type": "display_data"
    },
    {
     "name": "stdout",
     "output_type": "stream",
     "text": [
      "4.502240213726857e-08\n"
     ]
    }
   ],
   "source": [
    "plot(result['errors'])\n",
    "print(result['errors'][-1])"
   ]
  },
  {
   "cell_type": "code",
   "execution_count": 66,
   "metadata": {
    "ExecuteTime": {
     "end_time": "2019-12-13T11:13:47.986745Z",
     "start_time": "2019-12-13T11:13:47.905695Z"
    }
   },
   "outputs": [
    {
     "data": {
      "text/plain": [
       "array([['lungs', '1.0000000000000002'],\n",
       "       ['diastole', '0.9701851470090653'],\n",
       "       ['high', '0.9696343480649295'],\n",
       "       ['lens', '0.9688281626476215'],\n",
       "       ['depth', '0.9685974375406099'],\n",
       "       ['sustained', '0.9677610386542096'],\n",
       "       ['drive', '0.9575141749754035'],\n",
       "       ['parents', '0.9574087377438077'],\n",
       "       ['phase', '0.9568288765706253'],\n",
       "       ['sacculations', '0.955819172840281']], dtype='<U32')"
      ]
     },
     "execution_count": 66,
     "metadata": {},
     "output_type": "execute_result"
    }
   ],
   "source": [
    "embeddings.compute_similarity('lungs', words_limit= 10)"
   ]
  },
  {
   "cell_type": "markdown",
   "metadata": {},
   "source": [
    "## Visualization"
   ]
  },
  {
   "cell_type": "code",
   "execution_count": 67,
   "metadata": {
    "ExecuteTime": {
     "end_time": "2019-12-13T10:59:54.610894Z",
     "start_time": "2019-12-13T10:59:54.605908Z"
    }
   },
   "outputs": [],
   "source": [
    "res = embeddings.get_embeddings()\n",
    "res_norm = (res - np.min(res))/ (np.max(res) - np.min(res))\n",
    "pca = PCA(n_components=2) #2-dimensional PCA\n",
    "transformed = pca.fit_transform(res_norm)"
   ]
  },
  {
   "cell_type": "code",
   "execution_count": 68,
   "metadata": {
    "ExecuteTime": {
     "end_time": "2019-12-13T10:59:55.641962Z",
     "start_time": "2019-12-13T10:59:55.102406Z"
    }
   },
   "outputs": [
    {
     "data": {
      "image/png": "[encoded data removed]",
      "text/plain": [
       "<Figure size 432x288 with 1 Axes>"
      ]
     },
     "metadata": {
      "needs_background": "light"
     },
     "output_type": "display_data"
    }
   ],
   "source": [
    "fig, ax = plt.subplots()\r\n",
    "x = transformed[:100,0]\r\n",
    "y = transformed[:100,1]\r\n",
    "words = embeddings.get_words()[:100]\r\n",
    "ax.scatter(x, y)\r\n",
    "\r\n",
    "for i, word in enumerate(words):\r\n",
    "    ax.annotate(word, (x[i], y[i]))\r\n",
    "plt.show()"
   ]
  },
  {
   "cell_type": "code",
   "execution_count": 70,
   "metadata": {
    "ExecuteTime": {
     "end_time": "2019-12-13T11:00:02.060888Z",
     "start_time": "2019-12-13T11:00:02.053930Z"
    }
   },
   "outputs": [
    {
     "data": {
      "text/plain": [
       "array([['cell', '1.0000000000000002'],\n",
       "       ['regard', '0.9778053295129157'],\n",
       "       ['pump', '0.9738337634081917'],\n",
       "       ['examined', '0.9736873197190845'],\n",
       "       ['weak', '0.9536866002677142'],\n",
       "       ['looking', '0.9529291666082561'],\n",
       "       ['inconspicuous', '0.9469042750481962'],\n",
       "       ['dilates', '0.9452077535691932'],\n",
       "       ['rami', '0.9441129790214087'],\n",
       "       ['treated', '0.9381771441377548']], dtype='<U32')"
      ]
     },
     "execution_count": 70,
     "metadata": {},
     "output_type": "execute_result"
    }
   ],
   "source": [
    "embeddings.compute_similarity('cell', words_limit= 10)"
   ]
  }
 ],
 "metadata": {
  "interpreter": {
   "hash": "1baa965d5efe3ac65b79dfc60c0d706280b1da80fedb7760faf2759126c4f253"
  },
  "kernelspec": {
   "display_name": "Python 3.8.8 64-bit",
   "name": "python3"
  },
  "language_info": {
   "codemirror_mode": {
    "name": "ipython",
    "version": 3
   },
   "file_extension": ".py",
   "mimetype": "text/x-python",
   "name": "python",
   "nbconvert_exporter": "python",
   "pygments_lexer": "ipython3",
   "version": "3.8.8"
  },
  "toc": {
   "base_numbering": 1,
   "nav_menu": {},
   "number_sections": true,
   "sideBar": true,
   "skip_h1_title": false,
   "title_cell": "Table of Contents",
   "title_sidebar": "Contents",
   "toc_cell": false,
   "toc_position": {},
   "toc_section_display": true,
   "toc_window_display": false
  },
  "varInspector": {
   "cols": {
    "lenName": 16,
    "lenType": 16,
    "lenVar": 40
   },
   "kernels_config": {
    "python": {
     "delete_cmd_postfix": "",
     "delete_cmd_prefix": "del ",
     "library": "var_list.py",
     "varRefreshCmd": "print(var_dic_list())"
    },
    "r": {
     "delete_cmd_postfix": ") ",
     "delete_cmd_prefix": "rm(",
     "library": "var_list.r",
     "varRefreshCmd": "cat(var_dic_list()) "
    }
   },
   "types_to_exclude": [
    "module",
    "function",
    "builtin_function_or_method",
    "instance",
    "_Feature"
   ],
   "window_display": false
  }
 },
 "nbformat": 4,
 "nbformat_minor": 2
}