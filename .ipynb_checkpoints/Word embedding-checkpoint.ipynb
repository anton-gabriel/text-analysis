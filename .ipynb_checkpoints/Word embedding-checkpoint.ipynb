{
 "cells": [
  {
   "cell_type": "markdown",
   "metadata": {
    "ExecuteTime": {
     "end_time": "2019-11-28T13:39:28.217437Z",
     "start_time": "2019-11-28T13:39:28.212450Z"
    }
   },
   "source": [
    "# Word embedding"
   ]
  },
  {
   "cell_type": "code",
   "execution_count": 2,
   "metadata": {
    "ExecuteTime": {
     "end_time": "2019-11-29T11:22:48.520001Z",
     "start_time": "2019-11-29T11:22:48.517110Z"
    }
   },
   "outputs": [],
   "source": [
    "import numpy as np\n",
    "import re\n",
    "import pandas as pd\n",
    "from typing import List"
   ]
  },
  {
   "cell_type": "markdown",
   "metadata": {},
   "source": [
    "## Read data"
   ]
  },
  {
   "cell_type": "code",
   "execution_count": 3,
   "metadata": {
    "ExecuteTime": {
     "end_time": "2019-11-29T11:22:49.418417Z",
     "start_time": "2019-11-29T11:22:49.413554Z"
    }
   },
   "outputs": [],
   "source": [
    "def read_file(file_name: str) -> list:\n",
    "    with open(file_name) as file:\n",
    "         return [word for line in file for word in re.findall(r'\\w+', line)]"
   ]
  },
  {
   "cell_type": "code",
   "execution_count": 4,
   "metadata": {
    "ExecuteTime": {
     "end_time": "2019-11-29T11:22:49.827262Z",
     "start_time": "2019-11-29T11:22:49.819480Z"
    }
   },
   "outputs": [],
   "source": [
    "data = read_file(file_name= 'data.txt')"
   ]
  },
  {
   "cell_type": "markdown",
   "metadata": {},
   "source": [
    "## Build word-word co-occurrence matrix"
   ]
  },
  {
   "cell_type": "code",
   "execution_count": 5,
   "metadata": {
    "ExecuteTime": {
     "end_time": "2019-11-29T11:22:50.272949Z",
     "start_time": "2019-11-29T11:22:50.264194Z"
    }
   },
   "outputs": [],
   "source": [
    "def build_co_occurrence_matrix(data: List[str], window_size = (10, 10)) -> np.ndarray:\n",
    "    words = list(set(data))\n",
    "    vocab = {word:index for index, word in enumerate(words)}\n",
    "    number_data = np.array([vocab[word] for word in data])\n",
    "    \n",
    "    left_window =  np.arange(start= 1, stop= window_size[0] + 1, step= 1)\n",
    "    right_window =  np.arange(start= 1, stop= window_size[1] + 1, step= 1)\n",
    "    indices = np.arange(start= 0, stop= len(number_data), step= 1).reshape(-1, 1)\n",
    "    \n",
    "    left_windows = np.take(number_data, indices[window_size[0]:] - left_window)\n",
    "    right_windows = np.take(number_data, indices[:-window_size[1]] + right_window)\n",
    "    \n",
    "    \n",
    "    number_of_words = len(words)\n",
    "    co_occurrence_matrix = np.zeros(shape= (number_of_words, number_of_words), dtype= np.uint64)\n",
    "    co_occurrence_matrix[np.repeat(number_data[window_size[0]:], window_size[0]), left_windows.ravel()] += 1\n",
    "    co_occurrence_matrix[np.repeat(number_data[:-window_size[1]], window_size[1]), right_windows.ravel()] += 1\n",
    "  \n",
    "\n",
    "    #1. adaugare distanta fata de cuvantul curent\n",
    "    #2. adaugare +1 la fiecare element al matricii pentru log\n",
    "    co_occurrence_matrix += 1\n",
    "\n",
    "    return pd.DataFrame(data = co_occurrence_matrix,\n",
    "                       index = words,\n",
    "                       columns= words), co_occurrence_matrix"
   ]
  },
  {
   "cell_type": "code",
   "execution_count": 134,
   "metadata": {
    "ExecuteTime": {
     "end_time": "2019-11-29T14:06:43.056910Z",
     "start_time": "2019-11-29T14:06:43.046966Z"
    }
   },
   "outputs": [],
   "source": [
    "dataframe, co_occurrence = build_co_occurrence_matrix(data, window_size=(2, 2))"
   ]
  },
  {
   "cell_type": "markdown",
   "metadata": {},
   "source": [
    "### Check if co-occurence matrix is symmetric"
   ]
  },
  {
   "cell_type": "code",
   "execution_count": 135,
   "metadata": {
    "ExecuteTime": {
     "end_time": "2019-11-29T14:06:43.610375Z",
     "start_time": "2019-11-29T14:06:43.607355Z"
    }
   },
   "outputs": [
    {
     "name": "stdout",
     "output_type": "stream",
     "text": [
      "Symmetric: True\n"
     ]
    }
   ],
   "source": [
    "print(f'Symmetric: {np.all(co_occurence[1] == co_occurence[1].T)}')"
   ]
  },
  {
   "cell_type": "code",
   "execution_count": 136,
   "metadata": {
    "ExecuteTime": {
     "end_time": "2019-11-29T14:06:43.835557Z",
     "start_time": "2019-11-29T14:06:43.831594Z"
    }
   },
   "outputs": [
    {
     "name": "stdout",
     "output_type": "stream",
     "text": [
      "Max value: 3\n",
      "Min value: 1\n"
     ]
    }
   ],
   "source": [
    "print(f'Max value: {np.max(co_occurence)}')\n",
    "print(f'Min value: {np.min(co_occurence)}')    "
   ]
  },
  {
   "cell_type": "code",
   "execution_count": 137,
   "metadata": {
    "ExecuteTime": {
     "end_time": "2019-11-29T14:06:44.089043Z",
     "start_time": "2019-11-29T14:06:44.074084Z"
    },
    "scrolled": true
   },
   "outputs": [
    {
     "data": {
      "text/html": [
       "<div>\n",
       "<style scoped>\n",
       "    .dataframe tbody tr th:only-of-type {\n",
       "        vertical-align: middle;\n",
       "    }\n",
       "\n",
       "    .dataframe tbody tr th {\n",
       "        vertical-align: top;\n",
       "    }\n",
       "\n",
       "    .dataframe thead th {\n",
       "        text-align: right;\n",
       "    }\n",
       "</style>\n",
       "<table border=\"1\" class=\"dataframe\">\n",
       "  <thead>\n",
       "    <tr style=\"text-align: right;\">\n",
       "      <th></th>\n",
       "      <th>gravida</th>\n",
       "      <th>senectus</th>\n",
       "      <th>purus</th>\n",
       "      <th>Cras</th>\n",
       "      <th>erat</th>\n",
       "      <th>Lorem</th>\n",
       "      <th>fermentum</th>\n",
       "      <th>elit</th>\n",
       "      <th>libero</th>\n",
       "      <th>luctus</th>\n",
       "      <th>...</th>\n",
       "      <th>conubia</th>\n",
       "      <th>lacinia</th>\n",
       "      <th>morbi</th>\n",
       "      <th>malesuada</th>\n",
       "      <th>vitae</th>\n",
       "      <th>Nulla</th>\n",
       "      <th>molestie</th>\n",
       "      <th>facilisi</th>\n",
       "      <th>rhoncus</th>\n",
       "      <th>sociosqu</th>\n",
       "    </tr>\n",
       "  </thead>\n",
       "  <tbody>\n",
       "    <tr>\n",
       "      <td>gravida</td>\n",
       "      <td>1</td>\n",
       "      <td>1</td>\n",
       "      <td>3</td>\n",
       "      <td>2</td>\n",
       "      <td>3</td>\n",
       "      <td>1</td>\n",
       "      <td>2</td>\n",
       "      <td>3</td>\n",
       "      <td>3</td>\n",
       "      <td>2</td>\n",
       "      <td>...</td>\n",
       "      <td>1</td>\n",
       "      <td>1</td>\n",
       "      <td>1</td>\n",
       "      <td>2</td>\n",
       "      <td>2</td>\n",
       "      <td>1</td>\n",
       "      <td>2</td>\n",
       "      <td>1</td>\n",
       "      <td>1</td>\n",
       "      <td>1</td>\n",
       "    </tr>\n",
       "    <tr>\n",
       "      <td>senectus</td>\n",
       "      <td>1</td>\n",
       "      <td>1</td>\n",
       "      <td>1</td>\n",
       "      <td>1</td>\n",
       "      <td>1</td>\n",
       "      <td>1</td>\n",
       "      <td>1</td>\n",
       "      <td>1</td>\n",
       "      <td>1</td>\n",
       "      <td>1</td>\n",
       "      <td>...</td>\n",
       "      <td>1</td>\n",
       "      <td>1</td>\n",
       "      <td>2</td>\n",
       "      <td>1</td>\n",
       "      <td>1</td>\n",
       "      <td>1</td>\n",
       "      <td>1</td>\n",
       "      <td>1</td>\n",
       "      <td>1</td>\n",
       "      <td>1</td>\n",
       "    </tr>\n",
       "    <tr>\n",
       "      <td>purus</td>\n",
       "      <td>3</td>\n",
       "      <td>1</td>\n",
       "      <td>1</td>\n",
       "      <td>2</td>\n",
       "      <td>3</td>\n",
       "      <td>1</td>\n",
       "      <td>3</td>\n",
       "      <td>2</td>\n",
       "      <td>2</td>\n",
       "      <td>3</td>\n",
       "      <td>...</td>\n",
       "      <td>1</td>\n",
       "      <td>3</td>\n",
       "      <td>1</td>\n",
       "      <td>3</td>\n",
       "      <td>3</td>\n",
       "      <td>2</td>\n",
       "      <td>3</td>\n",
       "      <td>1</td>\n",
       "      <td>3</td>\n",
       "      <td>1</td>\n",
       "    </tr>\n",
       "    <tr>\n",
       "      <td>Cras</td>\n",
       "      <td>2</td>\n",
       "      <td>1</td>\n",
       "      <td>2</td>\n",
       "      <td>1</td>\n",
       "      <td>3</td>\n",
       "      <td>1</td>\n",
       "      <td>1</td>\n",
       "      <td>2</td>\n",
       "      <td>2</td>\n",
       "      <td>2</td>\n",
       "      <td>...</td>\n",
       "      <td>1</td>\n",
       "      <td>3</td>\n",
       "      <td>1</td>\n",
       "      <td>3</td>\n",
       "      <td>2</td>\n",
       "      <td>1</td>\n",
       "      <td>2</td>\n",
       "      <td>1</td>\n",
       "      <td>3</td>\n",
       "      <td>1</td>\n",
       "    </tr>\n",
       "    <tr>\n",
       "      <td>erat</td>\n",
       "      <td>3</td>\n",
       "      <td>1</td>\n",
       "      <td>3</td>\n",
       "      <td>3</td>\n",
       "      <td>3</td>\n",
       "      <td>1</td>\n",
       "      <td>3</td>\n",
       "      <td>1</td>\n",
       "      <td>2</td>\n",
       "      <td>3</td>\n",
       "      <td>...</td>\n",
       "      <td>1</td>\n",
       "      <td>2</td>\n",
       "      <td>1</td>\n",
       "      <td>3</td>\n",
       "      <td>3</td>\n",
       "      <td>2</td>\n",
       "      <td>2</td>\n",
       "      <td>1</td>\n",
       "      <td>3</td>\n",
       "      <td>1</td>\n",
       "    </tr>\n",
       "    <tr>\n",
       "      <td>...</td>\n",
       "      <td>...</td>\n",
       "      <td>...</td>\n",
       "      <td>...</td>\n",
       "      <td>...</td>\n",
       "      <td>...</td>\n",
       "      <td>...</td>\n",
       "      <td>...</td>\n",
       "      <td>...</td>\n",
       "      <td>...</td>\n",
       "      <td>...</td>\n",
       "      <td>...</td>\n",
       "      <td>...</td>\n",
       "      <td>...</td>\n",
       "      <td>...</td>\n",
       "      <td>...</td>\n",
       "      <td>...</td>\n",
       "      <td>...</td>\n",
       "      <td>...</td>\n",
       "      <td>...</td>\n",
       "      <td>...</td>\n",
       "      <td>...</td>\n",
       "    </tr>\n",
       "    <tr>\n",
       "      <td>Nulla</td>\n",
       "      <td>1</td>\n",
       "      <td>1</td>\n",
       "      <td>2</td>\n",
       "      <td>1</td>\n",
       "      <td>2</td>\n",
       "      <td>1</td>\n",
       "      <td>3</td>\n",
       "      <td>2</td>\n",
       "      <td>2</td>\n",
       "      <td>2</td>\n",
       "      <td>...</td>\n",
       "      <td>1</td>\n",
       "      <td>1</td>\n",
       "      <td>1</td>\n",
       "      <td>1</td>\n",
       "      <td>3</td>\n",
       "      <td>1</td>\n",
       "      <td>2</td>\n",
       "      <td>2</td>\n",
       "      <td>2</td>\n",
       "      <td>1</td>\n",
       "    </tr>\n",
       "    <tr>\n",
       "      <td>molestie</td>\n",
       "      <td>2</td>\n",
       "      <td>1</td>\n",
       "      <td>3</td>\n",
       "      <td>2</td>\n",
       "      <td>2</td>\n",
       "      <td>1</td>\n",
       "      <td>2</td>\n",
       "      <td>1</td>\n",
       "      <td>2</td>\n",
       "      <td>1</td>\n",
       "      <td>...</td>\n",
       "      <td>1</td>\n",
       "      <td>1</td>\n",
       "      <td>1</td>\n",
       "      <td>2</td>\n",
       "      <td>1</td>\n",
       "      <td>2</td>\n",
       "      <td>3</td>\n",
       "      <td>1</td>\n",
       "      <td>1</td>\n",
       "      <td>1</td>\n",
       "    </tr>\n",
       "    <tr>\n",
       "      <td>facilisi</td>\n",
       "      <td>1</td>\n",
       "      <td>1</td>\n",
       "      <td>1</td>\n",
       "      <td>1</td>\n",
       "      <td>1</td>\n",
       "      <td>1</td>\n",
       "      <td>1</td>\n",
       "      <td>1</td>\n",
       "      <td>1</td>\n",
       "      <td>1</td>\n",
       "      <td>...</td>\n",
       "      <td>1</td>\n",
       "      <td>1</td>\n",
       "      <td>1</td>\n",
       "      <td>1</td>\n",
       "      <td>1</td>\n",
       "      <td>2</td>\n",
       "      <td>1</td>\n",
       "      <td>1</td>\n",
       "      <td>1</td>\n",
       "      <td>1</td>\n",
       "    </tr>\n",
       "    <tr>\n",
       "      <td>rhoncus</td>\n",
       "      <td>1</td>\n",
       "      <td>1</td>\n",
       "      <td>3</td>\n",
       "      <td>3</td>\n",
       "      <td>3</td>\n",
       "      <td>1</td>\n",
       "      <td>1</td>\n",
       "      <td>2</td>\n",
       "      <td>2</td>\n",
       "      <td>2</td>\n",
       "      <td>...</td>\n",
       "      <td>1</td>\n",
       "      <td>1</td>\n",
       "      <td>1</td>\n",
       "      <td>2</td>\n",
       "      <td>2</td>\n",
       "      <td>2</td>\n",
       "      <td>1</td>\n",
       "      <td>1</td>\n",
       "      <td>1</td>\n",
       "      <td>1</td>\n",
       "    </tr>\n",
       "    <tr>\n",
       "      <td>sociosqu</td>\n",
       "      <td>1</td>\n",
       "      <td>1</td>\n",
       "      <td>1</td>\n",
       "      <td>1</td>\n",
       "      <td>1</td>\n",
       "      <td>1</td>\n",
       "      <td>1</td>\n",
       "      <td>1</td>\n",
       "      <td>1</td>\n",
       "      <td>1</td>\n",
       "      <td>...</td>\n",
       "      <td>1</td>\n",
       "      <td>1</td>\n",
       "      <td>1</td>\n",
       "      <td>1</td>\n",
       "      <td>1</td>\n",
       "      <td>1</td>\n",
       "      <td>1</td>\n",
       "      <td>1</td>\n",
       "      <td>1</td>\n",
       "      <td>1</td>\n",
       "    </tr>\n",
       "  </tbody>\n",
       "</table>\n",
       "<p>199 rows × 199 columns</p>\n",
       "</div>"
      ],
      "text/plain": [
       "          gravida  senectus  purus  Cras  erat  Lorem  fermentum  elit  \\\n",
       "gravida         1         1      3     2     3      1          2     3   \n",
       "senectus        1         1      1     1     1      1          1     1   \n",
       "purus           3         1      1     2     3      1          3     2   \n",
       "Cras            2         1      2     1     3      1          1     2   \n",
       "erat            3         1      3     3     3      1          3     1   \n",
       "...           ...       ...    ...   ...   ...    ...        ...   ...   \n",
       "Nulla           1         1      2     1     2      1          3     2   \n",
       "molestie        2         1      3     2     2      1          2     1   \n",
       "facilisi        1         1      1     1     1      1          1     1   \n",
       "rhoncus         1         1      3     3     3      1          1     2   \n",
       "sociosqu        1         1      1     1     1      1          1     1   \n",
       "\n",
       "          libero  luctus  ...  conubia  lacinia  morbi  malesuada  vitae  \\\n",
       "gravida        3       2  ...        1        1      1          2      2   \n",
       "senectus       1       1  ...        1        1      2          1      1   \n",
       "purus          2       3  ...        1        3      1          3      3   \n",
       "Cras           2       2  ...        1        3      1          3      2   \n",
       "erat           2       3  ...        1        2      1          3      3   \n",
       "...          ...     ...  ...      ...      ...    ...        ...    ...   \n",
       "Nulla          2       2  ...        1        1      1          1      3   \n",
       "molestie       2       1  ...        1        1      1          2      1   \n",
       "facilisi       1       1  ...        1        1      1          1      1   \n",
       "rhoncus        2       2  ...        1        1      1          2      2   \n",
       "sociosqu       1       1  ...        1        1      1          1      1   \n",
       "\n",
       "          Nulla  molestie  facilisi  rhoncus  sociosqu  \n",
       "gravida       1         2         1        1         1  \n",
       "senectus      1         1         1        1         1  \n",
       "purus         2         3         1        3         1  \n",
       "Cras          1         2         1        3         1  \n",
       "erat          2         2         1        3         1  \n",
       "...         ...       ...       ...      ...       ...  \n",
       "Nulla         1         2         2        2         1  \n",
       "molestie      2         3         1        1         1  \n",
       "facilisi      2         1         1        1         1  \n",
       "rhoncus       2         1         1        1         1  \n",
       "sociosqu      1         1         1        1         1  \n",
       "\n",
       "[199 rows x 199 columns]"
      ]
     },
     "execution_count": 137,
     "metadata": {},
     "output_type": "execute_result"
    }
   ],
   "source": [
    "dataframe"
   ]
  },
  {
   "cell_type": "markdown",
   "metadata": {},
   "source": [
    "## Build context probability matrix"
   ]
  },
  {
   "cell_type": "code",
   "execution_count": 138,
   "metadata": {
    "ExecuteTime": {
     "end_time": "2019-11-29T14:06:44.473673Z",
     "start_time": "2019-11-29T14:06:44.471374Z"
    }
   },
   "outputs": [],
   "source": [
    "def build_probability_matrix(co_occurrence_matrix: np.ndarray) -> np.ndarray:\n",
    "    return co_occurrence_matrix / np.sum(co_occurrence_matrix, axis= 1, keepdims= True)"
   ]
  },
  {
   "cell_type": "code",
   "execution_count": 139,
   "metadata": {
    "ExecuteTime": {
     "end_time": "2019-11-29T14:06:44.746755Z",
     "start_time": "2019-11-29T14:06:44.742766Z"
    }
   },
   "outputs": [],
   "source": [
    "probability = build_probability_matrix(co_occurence)"
   ]
  },
  {
   "cell_type": "code",
   "execution_count": 140,
   "metadata": {
    "ExecuteTime": {
     "end_time": "2019-11-29T14:06:45.027381Z",
     "start_time": "2019-11-29T14:06:45.023384Z"
    }
   },
   "outputs": [
    {
     "name": "stdout",
     "output_type": "stream",
     "text": [
      "Probability matrix correctness: True\n"
     ]
    }
   ],
   "source": [
    "print(f'Probability matrix correctness: {np.all(np.isclose(np.sum(probability, axis = 1), 1))}')"
   ]
  },
  {
   "cell_type": "code",
   "execution_count": 141,
   "metadata": {
    "ExecuteTime": {
     "end_time": "2019-11-29T14:06:45.443805Z",
     "start_time": "2019-11-29T14:06:45.438818Z"
    }
   },
   "outputs": [
    {
     "name": "stdout",
     "output_type": "stream",
     "text": [
      "[[0.00283286 0.00283286 0.00849858 ... 0.00283286 0.00283286 0.00283286]\n",
      " [0.00492611 0.00492611 0.00492611 ... 0.00492611 0.00492611 0.00492611]\n",
      " [0.0075188  0.00250627 0.00250627 ... 0.00250627 0.0075188  0.00250627]\n",
      " ...\n",
      " [0.00471698 0.00471698 0.00471698 ... 0.00471698 0.00471698 0.00471698]\n",
      " [0.0027248  0.0027248  0.00817439 ... 0.0027248  0.0027248  0.0027248 ]\n",
      " [0.00492611 0.00492611 0.00492611 ... 0.00492611 0.00492611 0.00492611]]\n"
     ]
    }
   ],
   "source": [
    "print(probability)"
   ]
  },
  {
   "cell_type": "markdown",
   "metadata": {},
   "source": [
    "## Model"
   ]
  },
  {
   "cell_type": "markdown",
   "metadata": {},
   "source": [
    "### Notations"
   ]
  },
  {
   "cell_type": "markdown",
   "metadata": {},
   "source": [
    "$ w \\to \\verb|word| $"
   ]
  },
  {
   "cell_type": "markdown",
   "metadata": {},
   "source": [
    "$ V \\to \\verb|number of unique words - size of vocabulary| $"
   ]
  },
  {
   "cell_type": "markdown",
   "metadata": {
    "ExecuteTime": {
     "end_time": "2019-11-28T14:02:17.310067Z",
     "start_time": "2019-11-28T14:02:17.305080Z"
    }
   },
   "source": [
    "$ X \\to \\verb|word-word co-occurrence matrix, symmetrically built - | X_{ij} = X_{ji} $"
   ]
  },
  {
   "cell_type": "markdown",
   "metadata": {},
   "source": [
    "$ X_{ij} \\to \\verb|the number of times word j occurs in the context of word i| $"
   ]
  },
  {
   "cell_type": "markdown",
   "metadata": {},
   "source": [
    "$ X_{i} = \\sum_{k}{X_{k}} \\to \\verb|the number of times any word appears in the context of word i| $"
   ]
  },
  {
   "cell_type": "markdown",
   "metadata": {},
   "source": [
    "$ P_{ij} = P\\left( j\\mid i \\right) = \\frac{X_{ij}}{X_{i}} \\to \\verb|the probability that word j appear in the context of word i| $"
   ]
  },
  {
   "cell_type": "markdown",
   "metadata": {},
   "source": [
    "### Word representation"
   ]
  },
  {
   "cell_type": "markdown",
   "metadata": {},
   "source": [
    "$ w_{i}^{T}w_{j} = \\log{P\\left( j\\mid i \\right)} \\to w_{i} \\verb| and | w_{j} \\verb|unknown vectors that represents i-th, j-th words| $"
   ]
  },
  {
   "cell_type": "markdown",
   "metadata": {},
   "source": [
    "$ w_{i}^{T}w_{j} = \\log{X_{ij}} - \\log{X_{i}} $"
   ]
  },
  {
   "cell_type": "markdown",
   "metadata": {},
   "source": [
    "$ w_{j}^{T}w_{i} = \\log{X_{ij}} - \\log{X_{j}} \\quad (X_{ij} = X_{ji})$"
   ]
  },
  {
   "cell_type": "markdown",
   "metadata": {},
   "source": [
    "$ 2 w_{i}^{T}w_{j} = 2\\log{X_{ij}} - 2\\log{X_{i}} - 2\\log{X_{j}} $"
   ]
  },
  {
   "cell_type": "markdown",
   "metadata": {},
   "source": [
    "$ w_{i}^{T}w_{j} = \\log{X_{ij}} - \\frac{1}{2}\\log{X_{i}} - \\frac{1}{2}\\log{X_{j}} $"
   ]
  },
  {
   "cell_type": "markdown",
   "metadata": {
    "ExecuteTime": {
     "end_time": "2019-11-28T22:23:18.627200Z",
     "start_time": "2019-11-28T22:23:18.616228Z"
    }
   },
   "source": [
    "$ w_{i}^{T}w_{j} = \\log{X_{ij}} - b_{i} -  b_{j} $"
   ]
  },
  {
   "cell_type": "markdown",
   "metadata": {
    "ExecuteTime": {
     "end_time": "2019-11-28T22:23:59.943961Z",
     "start_time": "2019-11-28T22:23:59.936979Z"
    }
   },
   "source": [
    "$ w_{i}^{T}w_{j} + b_{i} + b_{j} = \\log{X_{ij}}  $"
   ]
  },
  {
   "cell_type": "markdown",
   "metadata": {},
   "source": [
    "### Cost function"
   ]
  },
  {
   "cell_type": "markdown",
   "metadata": {},
   "source": [
    "$ J = \\sum_{i = 1}^{V}\\sum_{j = 1}^{V} f\\left( X_{i,j} \\right){\\left(w_{i}^{T}\\tilde{w_{j}}+b_{i}+\\tilde{b_{j}}-\\log{X_{ij}}\\right)}^2 $"
   ]
  },
  {
   "cell_type": "markdown",
   "metadata": {},
   "source": [
    "### Learning"
   ]
  },
  {
   "cell_type": "code",
   "execution_count": 142,
   "metadata": {
    "ExecuteTime": {
     "end_time": "2019-11-29T14:06:49.602283Z",
     "start_time": "2019-11-29T14:06:49.599030Z"
    }
   },
   "outputs": [],
   "source": [
    "def cost_function(co_occurrence_matrix: np.ndarray, W: np.ndarray, b: np.ndarray) -> float:\n",
    "    return np.sum((co_occurrence_matrix - W@b)**2)"
   ]
  },
  {
   "cell_type": "code",
   "execution_count": 198,
   "metadata": {
    "ExecuteTime": {
     "end_time": "2019-11-29T14:23:44.141986Z",
     "start_time": "2019-11-29T14:23:44.136742Z"
    }
   },
   "outputs": [],
   "source": [
    "def gradient_descent(co_occurrence_matrix: np.ndarray, encoded_dimensions: int= 50, steps= 10000, alpha= 0.1, beta= 0.01):\n",
    "    vocab_size = co_occurrence_matrix.shape[0]\n",
    "    W = np.random.rand(vocab_size, encoded_dimensions)\n",
    "    b = np.random.rand(encoded_dimensions, vocab_size)\n",
    "\n",
    "    errors = []\n",
    "    for step in range(steps):\n",
    "        old_W = W.copy()\n",
    "        old_b = b.copy()\n",
    "        \n",
    "        diff = co_occurrence_matrix - W@b\n",
    "        \n",
    "        W = old_W + alpha * (2 * diff @ b.T - beta * old_W)\n",
    "        b = b + alpha * (2 * (diff @ old_W).T - beta * b)\n",
    "        errors.append(cost_function(co_occurrence_matrix, W, b))\n",
    "    return errors, W, b"
   ]
  },
  {
   "cell_type": "code",
   "execution_count": 199,
   "metadata": {
    "ExecuteTime": {
     "end_time": "2019-11-29T14:23:44.276050Z",
     "start_time": "2019-11-29T14:23:44.273062Z"
    }
   },
   "outputs": [
    {
     "data": {
      "text/plain": [
       "array([[1, 1, 3, ..., 1, 1, 1],\n",
       "       [1, 1, 1, ..., 1, 1, 1],\n",
       "       [3, 1, 1, ..., 1, 3, 1],\n",
       "       ...,\n",
       "       [1, 1, 1, ..., 1, 1, 1],\n",
       "       [1, 1, 3, ..., 1, 1, 1],\n",
       "       [1, 1, 1, ..., 1, 1, 1]], dtype=uint64)"
      ]
     },
     "execution_count": 199,
     "metadata": {},
     "output_type": "execute_result"
    }
   ],
   "source": [
    "co_occurence"
   ]
  },
  {
   "cell_type": "code",
   "execution_count": 200,
   "metadata": {
    "ExecuteTime": {
     "end_time": "2019-11-29T14:23:47.974983Z",
     "start_time": "2019-11-29T14:23:47.968998Z"
    }
   },
   "outputs": [
    {
     "name": "stderr",
     "output_type": "stream",
     "text": [
      "C:\\ProgramData\\Anaconda3\\lib\\site-packages\\ipykernel_launcher.py:2: RuntimeWarning: overflow encountered in matmul\n",
      "  \n"
     ]
    }
   ],
   "source": [
    "errors, W, b =gradient_descent(co_occurence, 3, 5, alpha= 0.1, beta= 0.01)"
   ]
  },
  {
   "cell_type": "code",
   "execution_count": 201,
   "metadata": {
    "ExecuteTime": {
     "end_time": "2019-11-29T14:23:50.580655Z",
     "start_time": "2019-11-29T14:23:50.576692Z"
    }
   },
   "outputs": [
    {
     "data": {
      "text/plain": [
       "[70028668494.55399,\n",
       " 5.496771601846837e+29,\n",
       " 2.6573151166971605e+86,\n",
       " 3.0022659238988606e+256,\n",
       " inf]"
      ]
     },
     "execution_count": 201,
     "metadata": {},
     "output_type": "execute_result"
    }
   ],
   "source": [
    "errors"
   ]
  },
  {
   "cell_type": "code",
   "execution_count": 150,
   "metadata": {
    "ExecuteTime": {
     "end_time": "2019-11-29T14:07:48.740320Z",
     "start_time": "2019-11-29T14:07:48.735333Z"
    }
   },
   "outputs": [
    {
     "data": {
      "text/plain": [
       "array([[-3.83590042e+79, -3.45162361e+79, -3.54181353e+79, ...,\n",
       "        -3.68222633e+79, -3.67609026e+79, -3.60963194e+79],\n",
       "       [-2.21842757e+80, -1.99618763e+80, -2.04834743e+80, ...,\n",
       "        -2.12955278e+80, -2.12600409e+80, -2.08756905e+80],\n",
       "       [ 2.42914434e+79,  2.18579500e+79,  2.24290919e+79, ...,\n",
       "         2.33182780e+79,  2.32794204e+79,  2.28585626e+79],\n",
       "       ...,\n",
       "       [-1.60583477e+80, -1.44496379e+80, -1.48272027e+80, ...,\n",
       "        -1.54150172e+80, -1.53893295e+80, -1.51111130e+80],\n",
       "       [-4.82901588e+79, -4.34524972e+79, -4.45878983e+79, ...,\n",
       "        -4.63555553e+79, -4.62783083e+79, -4.54416643e+79],\n",
       "       [-9.21414770e+79, -8.29108325e+79, -8.50772684e+79, ...,\n",
       "        -8.84500992e+79, -8.83027056e+79, -8.67063222e+79]])"
      ]
     },
     "execution_count": 150,
     "metadata": {},
     "output_type": "execute_result"
    }
   ],
   "source": [
    "W"
   ]
  },
  {
   "cell_type": "code",
   "execution_count": 202,
   "metadata": {
    "ExecuteTime": {
     "end_time": "2019-11-29T14:40:41.044959Z",
     "start_time": "2019-11-29T14:40:41.040970Z"
    }
   },
   "outputs": [],
   "source": [
    "class MatrixFactorization(object):\n",
    "\n",
    "    def __init__(self, matrix: np.ndarray):\n",
    "        self.__matrix = matrix\n",
    "        \n",
    "    def train(self, desired_dimensions: int, alpha: float= 0.1, beta: float= 0.01, iterations: int= 1000):\n",
    "        P = np.random.rand(())\n",
    "        Q = np.random.rand(())\n",
    "\n",
    "    \n",
    "    def __gradient_descent(self, ):"
   ]
  },
  {
   "cell_type": "code",
   "execution_count": null,
   "metadata": {},
   "outputs": [],
   "source": []
  }
 ],
 "metadata": {
  "kernelspec": {
   "display_name": "Python 3",
   "language": "python",
   "name": "python3"
  },
  "language_info": {
   "codemirror_mode": {
    "name": "ipython",
    "version": 3
   },
   "file_extension": ".py",
   "mimetype": "text/x-python",
   "name": "python",
   "nbconvert_exporter": "python",
   "pygments_lexer": "ipython3",
   "version": "3.7.4"
  },
  "toc": {
   "base_numbering": 1,
   "nav_menu": {},
   "number_sections": true,
   "sideBar": true,
   "skip_h1_title": false,
   "title_cell": "Table of Contents",
   "title_sidebar": "Contents",
   "toc_cell": false,
   "toc_position": {},
   "toc_section_display": true,
   "toc_window_display": false
  },
  "varInspector": {
   "cols": {
    "lenName": 16,
    "lenType": 16,
    "lenVar": 40
   },
   "kernels_config": {
    "python": {
     "delete_cmd_postfix": "",
     "delete_cmd_prefix": "del ",
     "library": "var_list.py",
     "varRefreshCmd": "print(var_dic_list())"
    },
    "r": {
     "delete_cmd_postfix": ") ",
     "delete_cmd_prefix": "rm(",
     "library": "var_list.r",
     "varRefreshCmd": "cat(var_dic_list()) "
    }
   },
   "types_to_exclude": [
    "module",
    "function",
    "builtin_function_or_method",
    "instance",
    "_Feature"
   ],
   "window_display": false
  }
 },
 "nbformat": 4,
 "nbformat_minor": 2
}
