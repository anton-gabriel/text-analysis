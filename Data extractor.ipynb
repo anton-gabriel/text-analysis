{
 "cells": [
  {
   "cell_type": "code",
   "execution_count": 1,
   "metadata": {
    "ExecuteTime": {
     "end_time": "2019-12-06T09:13:52.975360Z",
     "start_time": "2019-12-06T09:13:52.558758Z"
    }
   },
   "outputs": [],
   "source": [
    "import numpy as np\n",
    "import wikipedia"
   ]
  },
  {
   "cell_type": "code",
   "execution_count": 2,
   "metadata": {
    "ExecuteTime": {
     "end_time": "2019-12-06T09:13:53.665620Z",
     "start_time": "2019-12-06T09:13:53.662626Z"
    },
    "scrolled": false
   },
   "outputs": [],
   "source": [
    "wikipedia.set_lang('en')"
   ]
  },
  {
   "cell_type": "code",
   "execution_count": 3,
   "metadata": {
    "ExecuteTime": {
     "end_time": "2019-12-06T09:13:56.054145Z",
     "start_time": "2019-12-06T09:13:54.405765Z"
    }
   },
   "outputs": [],
   "source": [
    "search_results = np.array(wikipedia.search(\"Programming\", results= 30))"
   ]
  },
  {
   "cell_type": "code",
   "execution_count": 6,
   "metadata": {
    "ExecuteTime": {
     "end_time": "2019-12-06T09:14:51.218363Z",
     "start_time": "2019-12-06T09:14:51.214368Z"
    }
   },
   "outputs": [],
   "source": [
    "def get_data(tilte: str) -> np.ndarray:\n",
    "    try:\n",
    "        return wikipedia.summary(title= tilte, redirect=False)\n",
    "    except:\n",
    "        return None"
   ]
  },
  {
   "cell_type": "code",
   "execution_count": 7,
   "metadata": {
    "ExecuteTime": {
     "end_time": "2019-12-06T09:17:01.684599Z",
     "start_time": "2019-12-06T09:14:51.790457Z"
    }
   },
   "outputs": [
    {
     "name": "stderr",
     "output_type": "stream",
     "text": [
      "C:\\ProgramData\\Anaconda3\\lib\\site-packages\\wikipedia\\wikipedia.py:389: UserWarning: No parser was explicitly specified, so I'm using the best available HTML parser for this system (\"lxml\"). This usually isn't a problem, but if you run this code on another system, or in a different virtual environment, it may use a different parser and behave differently.\n",
      "\n",
      "The code that caused this warning is on line 389 of the file C:\\ProgramData\\Anaconda3\\lib\\site-packages\\wikipedia\\wikipedia.py. To get rid of this warning, pass the additional argument 'features=\"lxml\"' to the BeautifulSoup constructor.\n",
      "\n",
      "  lis = BeautifulSoup(html).find_all('li')\n"
     ]
    }
   ],
   "source": [
    "data = []\n",
    "\n",
    "for title in search_results:\n",
    "    r = get_data(title)\n",
    "    if r!= None:\n",
    "        data.append(r)"
   ]
  },
  {
   "cell_type": "code",
   "execution_count": 118,
   "metadata": {
    "ExecuteTime": {
     "end_time": "2019-12-04T14:09:54.357892Z",
     "start_time": "2019-12-04T14:09:52.493582Z"
    }
   },
   "outputs": [
    {
     "data": {
      "text/plain": [
       "\"Computer programming is the process of designing and building an executable computer program for accomplishing a specific computing task. Programming involves tasks such as: analysis, generating algorithms, profiling algorithms' accuracy and resource consumption, and the implementation of algorithms in a chosen programming language (commonly referred to as coding). The source code of a program is written in one or more languages that are intelligible to programmers, rather than machine code, which is directly executed by the central processing unit. The purpose of programming is to find a sequence of instructions that will automate the performance of a task (which can be as complex as an operating system) on a computer, often for solving a given problem. The process of programming thus often requires expertise in several different subjects, including knowledge of the application domain, specialized algorithms, and formal logic.\\nTasks accompanying and related to programming include: testing, debugging, source code maintenance, implementation of build systems, and management of derived artifacts, such as the machine code of computer programs. These might be considered part of the programming process, but often the term software development is used for this larger process with the term programming, implementation, or coding reserved for the actual writing of code. Software engineering combines engineering techniques with software development practices. Reverse engineering is the opposite process. A hacker is any skilled computer expert that uses their technical knowledge to overcome a problem, but it can also mean a security hacker in common language.\""
      ]
     },
     "execution_count": 118,
     "metadata": {},
     "output_type": "execute_result"
    }
   ],
   "source": [
    "wikipedia.page(\"Programming\").summary"
   ]
  },
  {
   "cell_type": "code",
   "execution_count": 79,
   "metadata": {
    "ExecuteTime": {
     "end_time": "2019-12-04T13:09:43.981743Z",
     "start_time": "2019-12-04T13:09:43.977781Z"
    }
   },
   "outputs": [],
   "source": [
    "import pywikibot"
   ]
  },
  {
   "cell_type": "code",
   "execution_count": 91,
   "metadata": {
    "ExecuteTime": {
     "end_time": "2019-12-04T13:16:29.031070Z",
     "start_time": "2019-12-04T13:16:29.027081Z"
    }
   },
   "outputs": [],
   "source": [
    "site = pywikibot.Site('en', 'wikipedia')  # The site we want to run our bot on\n",
    "page = pywikibot.Page(site, title='Programming Languages')"
   ]
  },
  {
   "cell_type": "code",
   "execution_count": 94,
   "metadata": {
    "ExecuteTime": {
     "end_time": "2019-12-04T13:16:50.371612Z",
     "start_time": "2019-12-04T13:16:50.193509Z"
    }
   },
   "outputs": [
    {
     "name": "stdout",
     "output_type": "stream",
     "text": [
      "<pywikibot.data.api.PageGenerator object at 0x0000024F5EE64D88>\n"
     ]
    }
   ],
   "source": [
    "print(page.categories())"
   ]
  },
  {
   "cell_type": "code",
   "execution_count": 90,
   "metadata": {
    "ExecuteTime": {
     "end_time": "2019-12-04T13:12:31.838182Z",
     "start_time": "2019-12-04T13:12:31.834191Z"
    }
   },
   "outputs": [
    {
     "data": {
      "text/plain": [
       "'wikitext'"
      ]
     },
     "execution_count": 90,
     "metadata": {},
     "output_type": "execute_result"
    }
   ],
   "source": [
    "page.content_model"
   ]
  },
  {
   "cell_type": "code",
   "execution_count": 99,
   "metadata": {
    "ExecuteTime": {
     "end_time": "2019-12-04T14:04:07.447200Z",
     "start_time": "2019-12-04T14:04:07.443212Z"
    }
   },
   "outputs": [],
   "source": [
    "def wikipedia_search(word):\n",
    "    \"\"\"Search a word meaning on wikipedia.\"\"\"\n",
    "    wikipedia.set_lang('en')\n",
    "    results = wikipedia.search(word)\n",
    "\n",
    "    # get first result\n",
    "    if results:\n",
    "        page = wikipedia.page(results[0])\n",
    "        msg = page.title + \"\\n\" + page.url\n",
    "    else:\n",
    "        msg = '`{}` ??????????????'.format(word)\n",
    "    return msg"
   ]
  },
  {
   "cell_type": "code",
   "execution_count": 101,
   "metadata": {
    "ExecuteTime": {
     "end_time": "2019-12-04T14:04:35.672091Z",
     "start_time": "2019-12-04T14:04:33.979460Z"
    }
   },
   "outputs": [
    {
     "data": {
      "text/plain": [
       "'Game\\nhttps://en.wikipedia.org/wiki/Game'"
      ]
     },
     "execution_count": 101,
     "metadata": {},
     "output_type": "execute_result"
    }
   ],
   "source": [
    "wikipedia_search(\"Game\")"
   ]
  },
  {
   "cell_type": "code",
   "execution_count": null,
   "metadata": {},
   "outputs": [],
   "source": []
  }
 ],
 "metadata": {
  "kernelspec": {
   "display_name": "Python 3",
   "language": "python",
   "name": "python3"
  },
  "language_info": {
   "codemirror_mode": {
    "name": "ipython",
    "version": 3
   },
   "file_extension": ".py",
   "mimetype": "text/x-python",
   "name": "python",
   "nbconvert_exporter": "python",
   "pygments_lexer": "ipython3",
   "version": "3.7.4"
  }
 },
 "nbformat": 4,
 "nbformat_minor": 2
}
